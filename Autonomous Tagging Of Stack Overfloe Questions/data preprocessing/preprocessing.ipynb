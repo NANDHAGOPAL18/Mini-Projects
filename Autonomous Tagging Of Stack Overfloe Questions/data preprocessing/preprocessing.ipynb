{
 "cells": [
  {
   "cell_type": "markdown",
   "id": "e02d20d9",
   "metadata": {},
   "source": [
    "# Importing Required Libraries"
   ]
  },
  {
   "cell_type": "code",
   "execution_count": 45,
   "id": "e31ac5e3",
   "metadata": {},
   "outputs": [],
   "source": [
    "#!pip install nltk"
   ]
  },
  {
   "cell_type": "code",
   "execution_count": 46,
   "id": "53a7537a",
   "metadata": {},
   "outputs": [],
   "source": [
    "import pandas as pd\n",
    "import numpy as np\n",
    "\n",
    "import matplotlib.pyplot as plt\n",
    "import matplotlib.lines as mlines\n",
    "import seaborn as sns\n",
    "\n",
    "import warnings\n",
    "\n",
    "import pickle\n",
    "import time\n",
    "\n",
    "import re\n",
    "from bs4 import BeautifulSoup\n",
    "import nltk\n",
    "from nltk.tokenize import ToktokTokenizer\n",
    "from nltk.stem.wordnet import WordNetLemmatizer\n",
    "from nltk.corpus import stopwords\n",
    "from tqdm import tqdm\n",
    "from string import punctuation\n",
    "\n",
    "from sklearn.feature_extraction.text import TfidfVectorizer\n",
    "from sklearn.decomposition import LatentDirichletAllocation\n",
    "from sklearn.preprocessing import MultiLabelBinarizer \n",
    "from sklearn.model_selection import train_test_split\n",
    "from sklearn.model_selection import learning_curve\n",
    "from sklearn.model_selection import ShuffleSplit\n",
    "from sklearn.naive_bayes import MultinomialNB\n",
    "from sklearn.linear_model import SGDClassifier\n",
    "from sklearn.linear_model import LogisticRegression \n",
    "from sklearn.svm import LinearSVC\n",
    "from sklearn.linear_model import Perceptron \n",
    "from sklearn.neural_network import MLPClassifier\n",
    "from sklearn.ensemble import RandomForestClassifier\n",
    "from sklearn import model_selection \n",
    "from sklearn.metrics import make_scorer\n",
    "from sklearn.metrics import hamming_loss\n",
    "\n",
    "import logging\n",
    "\n",
    "from scipy.sparse import hstack\n",
    "\n",
    "warnings.filterwarnings(\"ignore\")"
   ]
  },
  {
   "cell_type": "markdown",
   "id": "0df93195",
   "metadata": {},
   "source": [
    "# Load the Data Set"
   ]
  },
  {
   "cell_type": "code",
   "execution_count": 47,
   "id": "920ff9a7",
   "metadata": {},
   "outputs": [
    {
     "data": {
      "text/html": [
       "<div>\n",
       "<style scoped>\n",
       "    .dataframe tbody tr th:only-of-type {\n",
       "        vertical-align: middle;\n",
       "    }\n",
       "\n",
       "    .dataframe tbody tr th {\n",
       "        vertical-align: top;\n",
       "    }\n",
       "\n",
       "    .dataframe thead th {\n",
       "        text-align: right;\n",
       "    }\n",
       "</style>\n",
       "<table border=\"1\" class=\"dataframe\">\n",
       "  <thead>\n",
       "    <tr style=\"text-align: right;\">\n",
       "      <th></th>\n",
       "      <th>Id</th>\n",
       "      <th>Tag</th>\n",
       "    </tr>\n",
       "  </thead>\n",
       "  <tbody>\n",
       "    <tr>\n",
       "      <th>0</th>\n",
       "      <td>80</td>\n",
       "      <td>flex</td>\n",
       "    </tr>\n",
       "    <tr>\n",
       "      <th>1</th>\n",
       "      <td>80</td>\n",
       "      <td>actionscript-3</td>\n",
       "    </tr>\n",
       "    <tr>\n",
       "      <th>2</th>\n",
       "      <td>80</td>\n",
       "      <td>air</td>\n",
       "    </tr>\n",
       "    <tr>\n",
       "      <th>3</th>\n",
       "      <td>90</td>\n",
       "      <td>svn</td>\n",
       "    </tr>\n",
       "    <tr>\n",
       "      <th>4</th>\n",
       "      <td>90</td>\n",
       "      <td>tortoisesvn</td>\n",
       "    </tr>\n",
       "  </tbody>\n",
       "</table>\n",
       "</div>"
      ],
      "text/plain": [
       "   Id             Tag\n",
       "0  80            flex\n",
       "1  80  actionscript-3\n",
       "2  80             air\n",
       "3  90             svn\n",
       "4  90     tortoisesvn"
      ]
     },
     "execution_count": 47,
     "metadata": {},
     "output_type": "execute_result"
    }
   ],
   "source": [
    "tags = pd.read_csv(\"Tags.csv\",encoding=\"ISO-8859-1\",dtype ={'Tag':str})\n",
    "tags.head()"
   ]
  },
  {
   "cell_type": "code",
   "execution_count": 48,
   "id": "aa2b9b34",
   "metadata": {},
   "outputs": [
    {
     "name": "stdout",
     "output_type": "stream",
     "text": [
      "<class 'pandas.core.frame.DataFrame'>\n",
      "RangeIndex: 3750994 entries, 0 to 3750993\n",
      "Data columns (total 2 columns):\n",
      " #   Column  Dtype \n",
      "---  ------  ----- \n",
      " 0   Id      int64 \n",
      " 1   Tag     object\n",
      "dtypes: int64(1), object(1)\n",
      "memory usage: 57.2+ MB\n"
     ]
    }
   ],
   "source": [
    "tags.info()"
   ]
  },
  {
   "cell_type": "code",
   "execution_count": 49,
   "id": "f48a816e",
   "metadata": {},
   "outputs": [
    {
     "data": {
      "text/html": [
       "<div>\n",
       "<style scoped>\n",
       "    .dataframe tbody tr th:only-of-type {\n",
       "        vertical-align: middle;\n",
       "    }\n",
       "\n",
       "    .dataframe tbody tr th {\n",
       "        vertical-align: top;\n",
       "    }\n",
       "\n",
       "    .dataframe thead th {\n",
       "        text-align: right;\n",
       "    }\n",
       "</style>\n",
       "<table border=\"1\" class=\"dataframe\">\n",
       "  <thead>\n",
       "    <tr style=\"text-align: right;\">\n",
       "      <th></th>\n",
       "      <th>Id</th>\n",
       "      <th>OwnerUserId</th>\n",
       "      <th>CreationDate</th>\n",
       "      <th>ClosedDate</th>\n",
       "      <th>Score</th>\n",
       "      <th>Title</th>\n",
       "      <th>Body</th>\n",
       "    </tr>\n",
       "  </thead>\n",
       "  <tbody>\n",
       "    <tr>\n",
       "      <th>0</th>\n",
       "      <td>80</td>\n",
       "      <td>26.0</td>\n",
       "      <td>2008-08-01T13:57:07Z</td>\n",
       "      <td>NaN</td>\n",
       "      <td>26</td>\n",
       "      <td>SQLStatement.execute() - multiple queries in o...</td>\n",
       "      <td>&lt;p&gt;I've written a database generation script i...</td>\n",
       "    </tr>\n",
       "    <tr>\n",
       "      <th>1</th>\n",
       "      <td>90</td>\n",
       "      <td>58.0</td>\n",
       "      <td>2008-08-01T14:41:24Z</td>\n",
       "      <td>2012-12-26T03:45:49Z</td>\n",
       "      <td>144</td>\n",
       "      <td>Good branching and merging tutorials for Torto...</td>\n",
       "      <td>&lt;p&gt;Are there any really good tutorials explain...</td>\n",
       "    </tr>\n",
       "    <tr>\n",
       "      <th>2</th>\n",
       "      <td>120</td>\n",
       "      <td>83.0</td>\n",
       "      <td>2008-08-01T15:50:08Z</td>\n",
       "      <td>NaN</td>\n",
       "      <td>21</td>\n",
       "      <td>ASP.NET Site Maps</td>\n",
       "      <td>&lt;p&gt;Has anyone got experience creating &lt;strong&gt;...</td>\n",
       "    </tr>\n",
       "    <tr>\n",
       "      <th>3</th>\n",
       "      <td>180</td>\n",
       "      <td>2089740.0</td>\n",
       "      <td>2008-08-01T18:42:19Z</td>\n",
       "      <td>NaN</td>\n",
       "      <td>53</td>\n",
       "      <td>Function for creating color wheels</td>\n",
       "      <td>&lt;p&gt;This is something I've pseudo-solved many t...</td>\n",
       "    </tr>\n",
       "    <tr>\n",
       "      <th>4</th>\n",
       "      <td>260</td>\n",
       "      <td>91.0</td>\n",
       "      <td>2008-08-01T23:22:08Z</td>\n",
       "      <td>NaN</td>\n",
       "      <td>49</td>\n",
       "      <td>Adding scripting functionality to .NET applica...</td>\n",
       "      <td>&lt;p&gt;I have a little game written in C#. It uses...</td>\n",
       "    </tr>\n",
       "  </tbody>\n",
       "</table>\n",
       "</div>"
      ],
      "text/plain": [
       "    Id  OwnerUserId          CreationDate            ClosedDate  Score  \\\n",
       "0   80         26.0  2008-08-01T13:57:07Z                   NaN     26   \n",
       "1   90         58.0  2008-08-01T14:41:24Z  2012-12-26T03:45:49Z    144   \n",
       "2  120         83.0  2008-08-01T15:50:08Z                   NaN     21   \n",
       "3  180    2089740.0  2008-08-01T18:42:19Z                   NaN     53   \n",
       "4  260         91.0  2008-08-01T23:22:08Z                   NaN     49   \n",
       "\n",
       "                                               Title  \\\n",
       "0  SQLStatement.execute() - multiple queries in o...   \n",
       "1  Good branching and merging tutorials for Torto...   \n",
       "2                                  ASP.NET Site Maps   \n",
       "3                 Function for creating color wheels   \n",
       "4  Adding scripting functionality to .NET applica...   \n",
       "\n",
       "                                                Body  \n",
       "0  <p>I've written a database generation script i...  \n",
       "1  <p>Are there any really good tutorials explain...  \n",
       "2  <p>Has anyone got experience creating <strong>...  \n",
       "3  <p>This is something I've pseudo-solved many t...  \n",
       "4  <p>I have a little game written in C#. It uses...  "
      ]
     },
     "execution_count": 49,
     "metadata": {},
     "output_type": "execute_result"
    }
   ],
   "source": [
    "ques = pd.read_csv(\"Questions.csv\",encoding = \"ISO-8859-1\")\n",
    "ques.head()"
   ]
  },
  {
   "cell_type": "code",
   "execution_count": 50,
   "id": "d149e02e",
   "metadata": {},
   "outputs": [
    {
     "name": "stdout",
     "output_type": "stream",
     "text": [
      "<class 'pandas.core.frame.DataFrame'>\n",
      "RangeIndex: 1264216 entries, 0 to 1264215\n",
      "Data columns (total 7 columns):\n",
      " #   Column        Non-Null Count    Dtype  \n",
      "---  ------        --------------    -----  \n",
      " 0   Id            1264216 non-null  int64  \n",
      " 1   OwnerUserId   1249762 non-null  float64\n",
      " 2   CreationDate  1264216 non-null  object \n",
      " 3   ClosedDate    55959 non-null    object \n",
      " 4   Score         1264216 non-null  int64  \n",
      " 5   Title         1264216 non-null  object \n",
      " 6   Body          1264216 non-null  object \n",
      "dtypes: float64(1), int64(2), object(4)\n",
      "memory usage: 67.5+ MB\n"
     ]
    }
   ],
   "source": [
    "ques.info()"
   ]
  },
  {
   "cell_type": "markdown",
   "id": "b50b0d64",
   "metadata": {},
   "source": [
    "# Handling Missing Value"
   ]
  },
  {
   "cell_type": "code",
   "execution_count": 51,
   "id": "547f7a5d",
   "metadata": {},
   "outputs": [
    {
     "data": {
      "text/html": [
       "<div>\n",
       "<style scoped>\n",
       "    .dataframe tbody tr th:only-of-type {\n",
       "        vertical-align: middle;\n",
       "    }\n",
       "\n",
       "    .dataframe tbody tr th {\n",
       "        vertical-align: top;\n",
       "    }\n",
       "\n",
       "    .dataframe thead th {\n",
       "        text-align: right;\n",
       "    }\n",
       "</style>\n",
       "<table border=\"1\" class=\"dataframe\">\n",
       "  <thead>\n",
       "    <tr style=\"text-align: right;\">\n",
       "      <th></th>\n",
       "      <th>Id</th>\n",
       "      <th>Tag</th>\n",
       "    </tr>\n",
       "  </thead>\n",
       "  <tbody>\n",
       "    <tr>\n",
       "      <th>0</th>\n",
       "      <td>80</td>\n",
       "      <td>flex actionscript-3 air</td>\n",
       "    </tr>\n",
       "    <tr>\n",
       "      <th>1</th>\n",
       "      <td>90</td>\n",
       "      <td>svn tortoisesvn branch branching-and-merging</td>\n",
       "    </tr>\n",
       "    <tr>\n",
       "      <th>2</th>\n",
       "      <td>120</td>\n",
       "      <td>sql asp.net sitemap</td>\n",
       "    </tr>\n",
       "    <tr>\n",
       "      <th>3</th>\n",
       "      <td>180</td>\n",
       "      <td>algorithm language-agnostic colors color-space</td>\n",
       "    </tr>\n",
       "    <tr>\n",
       "      <th>4</th>\n",
       "      <td>260</td>\n",
       "      <td>c# .net scripting compiler-construction</td>\n",
       "    </tr>\n",
       "    <tr>\n",
       "      <th>...</th>\n",
       "      <td>...</td>\n",
       "      <td>...</td>\n",
       "    </tr>\n",
       "    <tr>\n",
       "      <th>1264211</th>\n",
       "      <td>40143210</td>\n",
       "      <td>php .htaccess</td>\n",
       "    </tr>\n",
       "    <tr>\n",
       "      <th>1264212</th>\n",
       "      <td>40143300</td>\n",
       "      <td>google-bigquery</td>\n",
       "    </tr>\n",
       "    <tr>\n",
       "      <th>1264213</th>\n",
       "      <td>40143340</td>\n",
       "      <td>android android-studio</td>\n",
       "    </tr>\n",
       "    <tr>\n",
       "      <th>1264214</th>\n",
       "      <td>40143360</td>\n",
       "      <td>javascript vue.js</td>\n",
       "    </tr>\n",
       "    <tr>\n",
       "      <th>1264215</th>\n",
       "      <td>40143380</td>\n",
       "      <td>npm mocha babel</td>\n",
       "    </tr>\n",
       "  </tbody>\n",
       "</table>\n",
       "<p>1264216 rows × 2 columns</p>\n",
       "</div>"
      ],
      "text/plain": [
       "               Id                                             Tag\n",
       "0              80                         flex actionscript-3 air\n",
       "1              90    svn tortoisesvn branch branching-and-merging\n",
       "2             120                             sql asp.net sitemap\n",
       "3             180  algorithm language-agnostic colors color-space\n",
       "4             260         c# .net scripting compiler-construction\n",
       "...           ...                                             ...\n",
       "1264211  40143210                                   php .htaccess\n",
       "1264212  40143300                                 google-bigquery\n",
       "1264213  40143340                          android android-studio\n",
       "1264214  40143360                               javascript vue.js\n",
       "1264215  40143380                                 npm mocha babel\n",
       "\n",
       "[1264216 rows x 2 columns]"
      ]
     },
     "execution_count": 51,
     "metadata": {},
     "output_type": "execute_result"
    }
   ],
   "source": [
    "tags['Tag'] = tags['Tag'].astype(str)\n",
    "grouped_tags = tags.groupby(\"Id\")['Tag'].apply(lambda tags:' '.join(tags))\n",
    "grouped_tags.reset_index()"
   ]
  },
  {
   "cell_type": "code",
   "execution_count": 52,
   "id": "03fe5390",
   "metadata": {},
   "outputs": [
    {
     "data": {
      "text/plain": [
       "Id\n",
       "80                            flex actionscript-3 air\n",
       "90       svn tortoisesvn branch branching-and-merging\n",
       "120                               sql asp.net sitemap\n",
       "180    algorithm language-agnostic colors color-space\n",
       "260           c# .net scripting compiler-construction\n",
       "Name: Tag, dtype: object"
      ]
     },
     "execution_count": 52,
     "metadata": {},
     "output_type": "execute_result"
    }
   ],
   "source": [
    "grouped_tags.head()"
   ]
  },
  {
   "cell_type": "code",
   "execution_count": 53,
   "id": "617aeb3a",
   "metadata": {},
   "outputs": [],
   "source": [
    "ques.drop(columns=['OwnerUserId','CreationDate','ClosedDate'],inplace=True)\n",
    "ques = ques.merge(grouped_tags, on='Id')"
   ]
  },
  {
   "cell_type": "code",
   "execution_count": 54,
   "id": "71649e06",
   "metadata": {},
   "outputs": [
    {
     "data": {
      "text/html": [
       "<div>\n",
       "<style scoped>\n",
       "    .dataframe tbody tr th:only-of-type {\n",
       "        vertical-align: middle;\n",
       "    }\n",
       "\n",
       "    .dataframe tbody tr th {\n",
       "        vertical-align: top;\n",
       "    }\n",
       "\n",
       "    .dataframe thead th {\n",
       "        text-align: right;\n",
       "    }\n",
       "</style>\n",
       "<table border=\"1\" class=\"dataframe\">\n",
       "  <thead>\n",
       "    <tr style=\"text-align: right;\">\n",
       "      <th></th>\n",
       "      <th>Id</th>\n",
       "      <th>Score</th>\n",
       "      <th>Title</th>\n",
       "      <th>Body</th>\n",
       "      <th>Tag</th>\n",
       "    </tr>\n",
       "  </thead>\n",
       "  <tbody>\n",
       "    <tr>\n",
       "      <th>0</th>\n",
       "      <td>80</td>\n",
       "      <td>26</td>\n",
       "      <td>SQLStatement.execute() - multiple queries in o...</td>\n",
       "      <td>&lt;p&gt;I've written a database generation script i...</td>\n",
       "      <td>flex actionscript-3 air</td>\n",
       "    </tr>\n",
       "    <tr>\n",
       "      <th>1</th>\n",
       "      <td>90</td>\n",
       "      <td>144</td>\n",
       "      <td>Good branching and merging tutorials for Torto...</td>\n",
       "      <td>&lt;p&gt;Are there any really good tutorials explain...</td>\n",
       "      <td>svn tortoisesvn branch branching-and-merging</td>\n",
       "    </tr>\n",
       "    <tr>\n",
       "      <th>2</th>\n",
       "      <td>120</td>\n",
       "      <td>21</td>\n",
       "      <td>ASP.NET Site Maps</td>\n",
       "      <td>&lt;p&gt;Has anyone got experience creating &lt;strong&gt;...</td>\n",
       "      <td>sql asp.net sitemap</td>\n",
       "    </tr>\n",
       "    <tr>\n",
       "      <th>3</th>\n",
       "      <td>180</td>\n",
       "      <td>53</td>\n",
       "      <td>Function for creating color wheels</td>\n",
       "      <td>&lt;p&gt;This is something I've pseudo-solved many t...</td>\n",
       "      <td>algorithm language-agnostic colors color-space</td>\n",
       "    </tr>\n",
       "    <tr>\n",
       "      <th>4</th>\n",
       "      <td>260</td>\n",
       "      <td>49</td>\n",
       "      <td>Adding scripting functionality to .NET applica...</td>\n",
       "      <td>&lt;p&gt;I have a little game written in C#. It uses...</td>\n",
       "      <td>c# .net scripting compiler-construction</td>\n",
       "    </tr>\n",
       "  </tbody>\n",
       "</table>\n",
       "</div>"
      ],
      "text/plain": [
       "    Id  Score                                              Title  \\\n",
       "0   80     26  SQLStatement.execute() - multiple queries in o...   \n",
       "1   90    144  Good branching and merging tutorials for Torto...   \n",
       "2  120     21                                  ASP.NET Site Maps   \n",
       "3  180     53                 Function for creating color wheels   \n",
       "4  260     49  Adding scripting functionality to .NET applica...   \n",
       "\n",
       "                                                Body  \\\n",
       "0  <p>I've written a database generation script i...   \n",
       "1  <p>Are there any really good tutorials explain...   \n",
       "2  <p>Has anyone got experience creating <strong>...   \n",
       "3  <p>This is something I've pseudo-solved many t...   \n",
       "4  <p>I have a little game written in C#. It uses...   \n",
       "\n",
       "                                              Tag  \n",
       "0                         flex actionscript-3 air  \n",
       "1    svn tortoisesvn branch branching-and-merging  \n",
       "2                             sql asp.net sitemap  \n",
       "3  algorithm language-agnostic colors color-space  \n",
       "4         c# .net scripting compiler-construction  "
      ]
     },
     "execution_count": 54,
     "metadata": {},
     "output_type": "execute_result"
    }
   ],
   "source": [
    "ques.head()"
   ]
  },
  {
   "cell_type": "code",
   "execution_count": 55,
   "id": "e25e0cbe",
   "metadata": {},
   "outputs": [],
   "source": [
    "ques = ques[ques['Score']>5]"
   ]
  },
  {
   "cell_type": "code",
   "execution_count": 56,
   "id": "d2bd8615",
   "metadata": {},
   "outputs": [
    {
     "name": "stdout",
     "output_type": "stream",
     "text": [
      "<class 'pandas.core.frame.DataFrame'>\n",
      "Int64Index: 72950 entries, 0 to 1264205\n",
      "Data columns (total 5 columns):\n",
      " #   Column  Non-Null Count  Dtype \n",
      "---  ------  --------------  ----- \n",
      " 0   Id      72950 non-null  int64 \n",
      " 1   Score   72950 non-null  int64 \n",
      " 2   Title   72950 non-null  object\n",
      " 3   Body    72950 non-null  object\n",
      " 4   Tag     72950 non-null  object\n",
      "dtypes: int64(2), object(3)\n",
      "memory usage: 3.3+ MB\n"
     ]
    }
   ],
   "source": [
    "ques.info()"
   ]
  },
  {
   "cell_type": "code",
   "execution_count": 57,
   "id": "7af81f12",
   "metadata": {},
   "outputs": [
    {
     "data": {
      "text/html": [
       "<div>\n",
       "<style scoped>\n",
       "    .dataframe tbody tr th:only-of-type {\n",
       "        vertical-align: middle;\n",
       "    }\n",
       "\n",
       "    .dataframe tbody tr th {\n",
       "        vertical-align: top;\n",
       "    }\n",
       "\n",
       "    .dataframe thead th {\n",
       "        text-align: right;\n",
       "    }\n",
       "</style>\n",
       "<table border=\"1\" class=\"dataframe\">\n",
       "  <thead>\n",
       "    <tr style=\"text-align: right;\">\n",
       "      <th></th>\n",
       "      <th>Title</th>\n",
       "      <th>Body</th>\n",
       "      <th>Tag</th>\n",
       "    </tr>\n",
       "  </thead>\n",
       "  <tbody>\n",
       "    <tr>\n",
       "      <th>0</th>\n",
       "      <td>SQLStatement.execute() - multiple queries in o...</td>\n",
       "      <td>&lt;p&gt;I've written a database generation script i...</td>\n",
       "      <td>flex actionscript-3 air</td>\n",
       "    </tr>\n",
       "    <tr>\n",
       "      <th>1</th>\n",
       "      <td>Good branching and merging tutorials for Torto...</td>\n",
       "      <td>&lt;p&gt;Are there any really good tutorials explain...</td>\n",
       "      <td>svn tortoisesvn branch branching-and-merging</td>\n",
       "    </tr>\n",
       "    <tr>\n",
       "      <th>2</th>\n",
       "      <td>ASP.NET Site Maps</td>\n",
       "      <td>&lt;p&gt;Has anyone got experience creating &lt;strong&gt;...</td>\n",
       "      <td>sql asp.net sitemap</td>\n",
       "    </tr>\n",
       "    <tr>\n",
       "      <th>3</th>\n",
       "      <td>Function for creating color wheels</td>\n",
       "      <td>&lt;p&gt;This is something I've pseudo-solved many t...</td>\n",
       "      <td>algorithm language-agnostic colors color-space</td>\n",
       "    </tr>\n",
       "    <tr>\n",
       "      <th>4</th>\n",
       "      <td>Adding scripting functionality to .NET applica...</td>\n",
       "      <td>&lt;p&gt;I have a little game written in C#. It uses...</td>\n",
       "      <td>c# .net scripting compiler-construction</td>\n",
       "    </tr>\n",
       "  </tbody>\n",
       "</table>\n",
       "</div>"
      ],
      "text/plain": [
       "                                               Title  \\\n",
       "0  SQLStatement.execute() - multiple queries in o...   \n",
       "1  Good branching and merging tutorials for Torto...   \n",
       "2                                  ASP.NET Site Maps   \n",
       "3                 Function for creating color wheels   \n",
       "4  Adding scripting functionality to .NET applica...   \n",
       "\n",
       "                                                Body  \\\n",
       "0  <p>I've written a database generation script i...   \n",
       "1  <p>Are there any really good tutorials explain...   \n",
       "2  <p>Has anyone got experience creating <strong>...   \n",
       "3  <p>This is something I've pseudo-solved many t...   \n",
       "4  <p>I have a little game written in C#. It uses...   \n",
       "\n",
       "                                              Tag  \n",
       "0                         flex actionscript-3 air  \n",
       "1    svn tortoisesvn branch branching-and-merging  \n",
       "2                             sql asp.net sitemap  \n",
       "3  algorithm language-agnostic colors color-space  \n",
       "4         c# .net scripting compiler-construction  "
      ]
     },
     "execution_count": 57,
     "metadata": {},
     "output_type": "execute_result"
    }
   ],
   "source": [
    "ques.drop(columns = ['Id','Score'],inplace = True)\n",
    "ques.head()"
   ]
  },
  {
   "cell_type": "code",
   "execution_count": 58,
   "id": "53b30397",
   "metadata": {},
   "outputs": [],
   "source": [
    "del tags\n",
    "del grouped_tags"
   ]
  },
  {
   "cell_type": "code",
   "execution_count": 59,
   "id": "cb569ac0",
   "metadata": {},
   "outputs": [],
   "source": [
    "ques['Tag'] = ques['Tag'].apply(lambda x:x.split())\n",
    "all_tags = [item for sublist in ques['Tag'].values for item in sublist]"
   ]
  },
  {
   "cell_type": "code",
   "execution_count": 60,
   "id": "9cde9c71",
   "metadata": {},
   "outputs": [
    {
     "data": {
      "text/plain": [
       "224129"
      ]
     },
     "execution_count": 60,
     "metadata": {},
     "output_type": "execute_result"
    }
   ],
   "source": [
    "len(all_tags)"
   ]
  },
  {
   "cell_type": "code",
   "execution_count": 61,
   "id": "9396ecd0",
   "metadata": {},
   "outputs": [],
   "source": [
    "unique_tags = list(set(all_tags))"
   ]
  },
  {
   "cell_type": "code",
   "execution_count": 62,
   "id": "f897a253",
   "metadata": {},
   "outputs": [
    {
     "data": {
      "text/plain": [
       "14883"
      ]
     },
     "execution_count": 62,
     "metadata": {},
     "output_type": "execute_result"
    }
   ],
   "source": [
    "len(unique_tags)"
   ]
  },
  {
   "cell_type": "code",
   "execution_count": 63,
   "id": "3b3a4fbc",
   "metadata": {},
   "outputs": [
    {
     "data": {
      "text/html": [
       "<div>\n",
       "<style scoped>\n",
       "    .dataframe tbody tr th:only-of-type {\n",
       "        vertical-align: middle;\n",
       "    }\n",
       "\n",
       "    .dataframe tbody tr th {\n",
       "        vertical-align: top;\n",
       "    }\n",
       "\n",
       "    .dataframe thead th {\n",
       "        text-align: right;\n",
       "    }\n",
       "</style>\n",
       "<table border=\"1\" class=\"dataframe\">\n",
       "  <thead>\n",
       "    <tr style=\"text-align: right;\">\n",
       "      <th></th>\n",
       "      <th>Title</th>\n",
       "      <th>Body</th>\n",
       "      <th>Tag</th>\n",
       "    </tr>\n",
       "  </thead>\n",
       "  <tbody>\n",
       "    <tr>\n",
       "      <th>0</th>\n",
       "      <td>SQLStatement.execute() - multiple queries in o...</td>\n",
       "      <td>&lt;p&gt;I've written a database generation script i...</td>\n",
       "      <td>[flex, actionscript-3, air]</td>\n",
       "    </tr>\n",
       "    <tr>\n",
       "      <th>1</th>\n",
       "      <td>Good branching and merging tutorials for Torto...</td>\n",
       "      <td>&lt;p&gt;Are there any really good tutorials explain...</td>\n",
       "      <td>[svn, tortoisesvn, branch, branching-and-merging]</td>\n",
       "    </tr>\n",
       "    <tr>\n",
       "      <th>2</th>\n",
       "      <td>ASP.NET Site Maps</td>\n",
       "      <td>&lt;p&gt;Has anyone got experience creating &lt;strong&gt;...</td>\n",
       "      <td>[sql, asp.net, sitemap]</td>\n",
       "    </tr>\n",
       "    <tr>\n",
       "      <th>3</th>\n",
       "      <td>Function for creating color wheels</td>\n",
       "      <td>&lt;p&gt;This is something I've pseudo-solved many t...</td>\n",
       "      <td>[algorithm, language-agnostic, colors, color-s...</td>\n",
       "    </tr>\n",
       "    <tr>\n",
       "      <th>4</th>\n",
       "      <td>Adding scripting functionality to .NET applica...</td>\n",
       "      <td>&lt;p&gt;I have a little game written in C#. It uses...</td>\n",
       "      <td>[c#, .net, scripting, compiler-construction]</td>\n",
       "    </tr>\n",
       "  </tbody>\n",
       "</table>\n",
       "</div>"
      ],
      "text/plain": [
       "                                               Title  \\\n",
       "0  SQLStatement.execute() - multiple queries in o...   \n",
       "1  Good branching and merging tutorials for Torto...   \n",
       "2                                  ASP.NET Site Maps   \n",
       "3                 Function for creating color wheels   \n",
       "4  Adding scripting functionality to .NET applica...   \n",
       "\n",
       "                                                Body  \\\n",
       "0  <p>I've written a database generation script i...   \n",
       "1  <p>Are there any really good tutorials explain...   \n",
       "2  <p>Has anyone got experience creating <strong>...   \n",
       "3  <p>This is something I've pseudo-solved many t...   \n",
       "4  <p>I have a little game written in C#. It uses...   \n",
       "\n",
       "                                                 Tag  \n",
       "0                        [flex, actionscript-3, air]  \n",
       "1  [svn, tortoisesvn, branch, branching-and-merging]  \n",
       "2                            [sql, asp.net, sitemap]  \n",
       "3  [algorithm, language-agnostic, colors, color-s...  \n",
       "4       [c#, .net, scripting, compiler-construction]  "
      ]
     },
     "execution_count": 63,
     "metadata": {},
     "output_type": "execute_result"
    }
   ],
   "source": [
    "from collections import Counter\n",
    "ques.head()"
   ]
  },
  {
   "cell_type": "code",
   "execution_count": 64,
   "id": "afce3237",
   "metadata": {},
   "outputs": [],
   "source": [
    "counter = Counter(all_tags)\n",
    "most_occur = counter.most_common(100)"
   ]
  },
  {
   "cell_type": "code",
   "execution_count": 65,
   "id": "0d373587",
   "metadata": {},
   "outputs": [
    {
     "data": {
      "text/plain": [
       "(['c#', 'java', 'javascript', 'android', 'python'],\n",
       " [6907, 6862, 5560, 5052, 4442])"
      ]
     },
     "execution_count": 65,
     "metadata": {},
     "output_type": "execute_result"
    }
   ],
   "source": [
    "tags = [i[0] for i in most_occur]\n",
    "count = [i[1] for i in most_occur]\n",
    "tags[:5],count[:5]"
   ]
  },
  {
   "cell_type": "code",
   "execution_count": 66,
   "id": "00a4e49f",
   "metadata": {},
   "outputs": [
    {
     "data": {
      "image/png": "[encoded data removed]",
      "text/plain": [
       "<Figure size 1440x720 with 1 Axes>"
      ]
     },
     "metadata": {
      "needs_background": "light"
     },
     "output_type": "display_data"
    }
   ],
   "source": [
    "x = np.arange(len(most_occur))\n",
    "fig, ax = plt.subplots(figsize=(20, 10))\n",
    "plt.bar(x, height= count) \n",
    "plt.xticks(x, tags, rotation=75)\n",
    "plt.show()"
   ]
  },
  {
   "cell_type": "code",
   "execution_count": 67,
   "id": "483f26f0",
   "metadata": {},
   "outputs": [],
   "source": [
    "def most_common(x):\n",
    "    tags_filtered = []\n",
    "    for i in range(0, len(x)):\n",
    "        if x[i] in tags:\n",
    "            tags_filtered.append(x[i])\n",
    "    return tags_filtered"
   ]
  },
  {
   "cell_type": "code",
   "execution_count": 68,
   "id": "a6206647",
   "metadata": {},
   "outputs": [],
   "source": [
    "ques['Tag'] = ques['Tag'].apply(lambda x: most_common(x))\n",
    "ques['Tag'] = ques['Tag'].apply(lambda x: x if len(x)>0 else None)"
   ]
  },
  {
   "cell_type": "code",
   "execution_count": 69,
   "id": "93b63d8e",
   "metadata": {},
   "outputs": [
    {
     "data": {
      "text/plain": [
       "(72950, 3)"
      ]
     },
     "execution_count": 69,
     "metadata": {},
     "output_type": "execute_result"
    }
   ],
   "source": [
    "ques.shape"
   ]
  },
  {
   "cell_type": "code",
   "execution_count": 70,
   "id": "3081de27",
   "metadata": {},
   "outputs": [
    {
     "data": {
      "text/plain": [
       "(63167, 3)"
      ]
     },
     "execution_count": 70,
     "metadata": {},
     "output_type": "execute_result"
    }
   ],
   "source": [
    "ques.dropna(subset=['Tag'], inplace=True)\n",
    "ques.shape"
   ]
  },
  {
   "cell_type": "code",
   "execution_count": 71,
   "id": "7a199e19",
   "metadata": {},
   "outputs": [
    {
     "data": {
      "text/html": [
       "<div>\n",
       "<style scoped>\n",
       "    .dataframe tbody tr th:only-of-type {\n",
       "        vertical-align: middle;\n",
       "    }\n",
       "\n",
       "    .dataframe tbody tr th {\n",
       "        vertical-align: top;\n",
       "    }\n",
       "\n",
       "    .dataframe thead th {\n",
       "        text-align: right;\n",
       "    }\n",
       "</style>\n",
       "<table border=\"1\" class=\"dataframe\">\n",
       "  <thead>\n",
       "    <tr style=\"text-align: right;\">\n",
       "      <th></th>\n",
       "      <th>Title</th>\n",
       "      <th>Body</th>\n",
       "      <th>Tag</th>\n",
       "    </tr>\n",
       "  </thead>\n",
       "  <tbody>\n",
       "    <tr>\n",
       "      <th>1</th>\n",
       "      <td>Good branching and merging tutorials for Torto...</td>\n",
       "      <td>&lt;p&gt;Are there any really good tutorials explain...</td>\n",
       "      <td>[svn]</td>\n",
       "    </tr>\n",
       "    <tr>\n",
       "      <th>2</th>\n",
       "      <td>ASP.NET Site Maps</td>\n",
       "      <td>&lt;p&gt;Has anyone got experience creating &lt;strong&gt;...</td>\n",
       "      <td>[sql, asp.net]</td>\n",
       "    </tr>\n",
       "    <tr>\n",
       "      <th>3</th>\n",
       "      <td>Function for creating color wheels</td>\n",
       "      <td>&lt;p&gt;This is something I've pseudo-solved many t...</td>\n",
       "      <td>[algorithm]</td>\n",
       "    </tr>\n",
       "    <tr>\n",
       "      <th>4</th>\n",
       "      <td>Adding scripting functionality to .NET applica...</td>\n",
       "      <td>&lt;p&gt;I have a little game written in C#. It uses...</td>\n",
       "      <td>[c#, .net]</td>\n",
       "    </tr>\n",
       "    <tr>\n",
       "      <th>5</th>\n",
       "      <td>Should I use nested classes in this case?</td>\n",
       "      <td>&lt;p&gt;I am working on a collection of classes use...</td>\n",
       "      <td>[c++, oop, class]</td>\n",
       "    </tr>\n",
       "  </tbody>\n",
       "</table>\n",
       "</div>"
      ],
      "text/plain": [
       "                                               Title  \\\n",
       "1  Good branching and merging tutorials for Torto...   \n",
       "2                                  ASP.NET Site Maps   \n",
       "3                 Function for creating color wheels   \n",
       "4  Adding scripting functionality to .NET applica...   \n",
       "5          Should I use nested classes in this case?   \n",
       "\n",
       "                                                Body                Tag  \n",
       "1  <p>Are there any really good tutorials explain...              [svn]  \n",
       "2  <p>Has anyone got experience creating <strong>...     [sql, asp.net]  \n",
       "3  <p>This is something I've pseudo-solved many t...        [algorithm]  \n",
       "4  <p>I have a little game written in C#. It uses...         [c#, .net]  \n",
       "5  <p>I am working on a collection of classes use...  [c++, oop, class]  "
      ]
     },
     "execution_count": 71,
     "metadata": {},
     "output_type": "execute_result"
    }
   ],
   "source": [
    "ques.head()"
   ]
  },
  {
   "cell_type": "code",
   "execution_count": 72,
   "id": "e9536e47",
   "metadata": {},
   "outputs": [],
   "source": [
    "# Converting html to text in the body\n",
    "ques['Body'] = ques['Body'].apply(lambda x: BeautifulSoup(x).get_text()) "
   ]
  },
  {
   "cell_type": "code",
   "execution_count": 73,
   "id": "d641da0c",
   "metadata": {},
   "outputs": [],
   "source": [
    "#print(dir(nltk.download()))"
   ]
  },
  {
   "cell_type": "code",
   "execution_count": 74,
   "id": "792879cf",
   "metadata": {},
   "outputs": [],
   "source": [
    "#nltk.download('popular')"
   ]
  },
  {
   "cell_type": "code",
   "execution_count": 75,
   "id": "efbacbc6",
   "metadata": {},
   "outputs": [],
   "source": [
    "token=ToktokTokenizer()\n",
    "punct = '!\"#$%&\\'()*+,./:;<=>?@[\\]^_`{|}~'\n",
    "\n",
    "def clean_text(text):\n",
    "  text = text.lower()\n",
    "  text = re.sub(r\"what's\", \"what is \", text)\n",
    "  text = re.sub(r\"\\'s\", \" \", text)\n",
    "  text = re.sub(r\"\\'ve\", \" have \", text)\n",
    "  text = re.sub(r\"can't\", \"can not \", text)\n",
    "  text = re.sub(r\"n't\", \" not \", text)\n",
    "  text = re.sub(r\"i'm\", \"i am \", text)\n",
    "  text = re.sub(r\"\\'re\", \" are \", text)\n",
    "  text = re.sub(r\"\\'d\", \" would \", text)\n",
    "  text = re.sub(r\"\\'ll\", \" will \", text)\n",
    "  text = re.sub(r\"\\'scuse\", \" excuse \", text)\n",
    "  text = re.sub(r\"\\'\\n\", \" \", text)\n",
    "  text = re.sub(r\"\\'\\xa0\", \" \", text)\n",
    "  text = re.sub('\\s+', ' ', text)\n",
    "  text = text.strip(' ')\n",
    "  return text\n",
    "\n",
    "def strip_list_noempty(mylist):\n",
    "  newlist = (item.strip() if hasattr(item, 'strip') else item for item in mylist)\n",
    "  return [item for item in newlist if item != '']\n",
    "\n",
    "def clean_punct(text): \n",
    "  words=token.tokenize(text)\n",
    "  punctuation_filtered = []\n",
    "  regex = re.compile('[%s]' % re.escape(punct))\n",
    "  remove_punctuation = str.maketrans(' ', ' ', punct)\n",
    "  for w in words:\n",
    "      if w in tags:\n",
    "          punctuation_filtered.append(w)\n",
    "      else:\n",
    "          punctuation_filtered.append(regex.sub('', w))\n",
    "\n",
    "  filtered_list = strip_list_noempty(punctuation_filtered)\n",
    "\n",
    "  return ' '.join(map(str, filtered_list))\n",
    "\n",
    "lemma=WordNetLemmatizer()\n",
    "stop_words = set(stopwords.words(\"english\"))\n",
    "\n",
    "def lemitizeWords(text):\n",
    "    words=token.tokenize(text)\n",
    "    listLemma=[]\n",
    "    for w in words:\n",
    "        x=lemma.lemmatize(w, pos=\"v\")\n",
    "        listLemma.append(x)\n",
    "    return ' '.join(map(str, listLemma))\n",
    "\n",
    "def stopWordsRemove(text):\n",
    "    \n",
    "    stop_words = set(stopwords.words(\"english\"))\n",
    "    \n",
    "    words=token.tokenize(text)\n",
    "    \n",
    "    filtered = [w for w in words if not w in stop_words]\n",
    "    \n",
    "    return ' '.join(map(str, filtered))"
   ]
  },
  {
   "cell_type": "code",
   "execution_count": 76,
   "id": "1fe8f5e1",
   "metadata": {},
   "outputs": [],
   "source": [
    "def combine(new_df):\n",
    "  new_df['Body'] = new_df['Body'].apply(lambda x: clean_text(x))\n",
    "  print(1)\n",
    "  new_df['Body'] = new_df['Body'].apply(lambda x: clean_punct(x))\n",
    "  print(2)\n",
    "  new_df['Body'] = new_df['Body'].apply(lambda x: lemitizeWords(x)) \n",
    "  print(3)\n",
    "  new_df['Body'] = new_df['Body'].apply(lambda x: stopWordsRemove(x))\n",
    "  print(4)\n",
    "  new_df['Title'] = new_df['Title'].apply(lambda x: str(x))\n",
    "  print(5)\n",
    "  new_df['Title'] = new_df['Title'].apply(lambda x: clean_text(x)) \n",
    "  print(6)\n",
    "  new_df['Title'] = new_df['Title'].apply(lambda x: clean_punct(x)) \n",
    "  print(7)\n",
    "  new_df['Title'] = new_df['Title'].apply(lambda x: lemitizeWords(x)) \n",
    "  print(8)\n",
    "  new_df['Title'] = new_df['Title'].apply(lambda x: stopWordsRemove(x))\n",
    "  return new_df"
   ]
  },
  {
   "cell_type": "code",
   "execution_count": 77,
   "id": "c53465f1",
   "metadata": {},
   "outputs": [
    {
     "name": "stdout",
     "output_type": "stream",
     "text": [
      "1\n",
      "2\n",
      "3\n",
      "4\n",
      "5\n",
      "6\n",
      "7\n",
      "8\n"
     ]
    },
    {
     "data": {
      "text/html": [
       "<div>\n",
       "<style scoped>\n",
       "    .dataframe tbody tr th:only-of-type {\n",
       "        vertical-align: middle;\n",
       "    }\n",
       "\n",
       "    .dataframe tbody tr th {\n",
       "        vertical-align: top;\n",
       "    }\n",
       "\n",
       "    .dataframe thead th {\n",
       "        text-align: right;\n",
       "    }\n",
       "</style>\n",
       "<table border=\"1\" class=\"dataframe\">\n",
       "  <thead>\n",
       "    <tr style=\"text-align: right;\">\n",
       "      <th></th>\n",
       "      <th>Title</th>\n",
       "      <th>Body</th>\n",
       "      <th>Tag</th>\n",
       "    </tr>\n",
       "  </thead>\n",
       "  <tbody>\n",
       "    <tr>\n",
       "      <th>1</th>\n",
       "      <td>good branch merge tutorials tortoisesvn</td>\n",
       "      <td>really good tutorials explain branch merge apa...</td>\n",
       "      <td>[svn]</td>\n",
       "    </tr>\n",
       "    <tr>\n",
       "      <th>2</th>\n",
       "      <td>asp.net site map</td>\n",
       "      <td>anyone get experience create sql-based asp.net...</td>\n",
       "      <td>[sql, asp.net]</td>\n",
       "    </tr>\n",
       "    <tr>\n",
       "      <th>3</th>\n",
       "      <td>function create color wheel</td>\n",
       "      <td>something pseudo-solved many time never quite ...</td>\n",
       "      <td>[algorithm]</td>\n",
       "    </tr>\n",
       "    <tr>\n",
       "      <th>4</th>\n",
       "      <td>add script functionality .net applications</td>\n",
       "      <td>little game write c use database back-end trad...</td>\n",
       "      <td>[c#, .net]</td>\n",
       "    </tr>\n",
       "    <tr>\n",
       "      <th>5</th>\n",
       "      <td>use nest class case</td>\n",
       "      <td>work collection class use video playback recor...</td>\n",
       "      <td>[c++, oop, class]</td>\n",
       "    </tr>\n",
       "  </tbody>\n",
       "</table>\n",
       "</div>"
      ],
      "text/plain": [
       "                                        Title  \\\n",
       "1     good branch merge tutorials tortoisesvn   \n",
       "2                            asp.net site map   \n",
       "3                 function create color wheel   \n",
       "4  add script functionality .net applications   \n",
       "5                         use nest class case   \n",
       "\n",
       "                                                Body                Tag  \n",
       "1  really good tutorials explain branch merge apa...              [svn]  \n",
       "2  anyone get experience create sql-based asp.net...     [sql, asp.net]  \n",
       "3  something pseudo-solved many time never quite ...        [algorithm]  \n",
       "4  little game write c use database back-end trad...         [c#, .net]  \n",
       "5  work collection class use video playback recor...  [c++, oop, class]  "
      ]
     },
     "execution_count": 77,
     "metadata": {},
     "output_type": "execute_result"
    }
   ],
   "source": [
    "ques = combine(ques)\n",
    "ques.head()"
   ]
  },
  {
   "cell_type": "code",
   "execution_count": 78,
   "id": "86f38c9a",
   "metadata": {},
   "outputs": [
    {
     "name": "stderr",
     "output_type": "stream",
     "text": [
      "100%|████████████████████████████████████████████████████████████████████████| 63167/63167 [00:00<00:00, 336139.68it/s]\n"
     ]
    }
   ],
   "source": [
    "y = ques['Tag']\n",
    "ques = ques.values\n",
    "X = []\n",
    "\n",
    "for i in tqdm(ques):\n",
    "  X.append(i[0]+' '+i[1])"
   ]
  },
  {
   "cell_type": "code",
   "execution_count": 79,
   "id": "7fb9e65d",
   "metadata": {},
   "outputs": [],
   "source": [
    "multilabel_binarizer = MultiLabelBinarizer()\n",
    "Y = multilabel_binarizer.fit_transform(y)"
   ]
  },
  {
   "cell_type": "code",
   "execution_count": 80,
   "id": "5d9f21ae",
   "metadata": {},
   "outputs": [
    {
     "data": {
      "text/plain": [
       "(63167, (63167, 100))"
      ]
     },
     "execution_count": 80,
     "metadata": {},
     "output_type": "execute_result"
    }
   ],
   "source": [
    "len(X),Y.shape"
   ]
  },
  {
   "cell_type": "code",
   "execution_count": 81,
   "id": "2c1622ec",
   "metadata": {},
   "outputs": [
    {
     "data": {
      "text/plain": [
       "'good branch merge tutorials tortoisesvn really good tutorials explain branch merge apache subversion better specific tortoisesvn client'"
      ]
     },
     "execution_count": 81,
     "metadata": {},
     "output_type": "execute_result"
    }
   ],
   "source": [
    "X[0]"
   ]
  },
  {
   "cell_type": "code",
   "execution_count": 82,
   "id": "72258bf4",
   "metadata": {},
   "outputs": [],
   "source": [
    "with open('X.pkl','wb') as f:\n",
    "  pickle.dump(X, f)\n",
    "with open('Y.pkl','wb') as f:\n",
    "  pickle.dump(Y, f)"
   ]
  }
 ],
 "metadata": {
  "kernelspec": {
   "display_name": "Python 3 (ipykernel)",
   "language": "python",
   "name": "python3"
  },
  "language_info": {
   "codemirror_mode": {
    "name": "ipython",
    "version": 3
   },
   "file_extension": ".py",
   "mimetype": "text/x-python",
   "name": "python",
   "nbconvert_exporter": "python",
   "pygments_lexer": "ipython3",
   "version": "3.9.7"
  }
 },
 "nbformat": 4,
 "nbformat_minor": 5
}
